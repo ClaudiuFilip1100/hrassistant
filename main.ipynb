{
 "cells": [
  {
   "cell_type": "code",
   "execution_count": 1,
   "metadata": {},
   "outputs": [],
   "source": [
    "import numpy as np\n",
    "import pandas as pd\n",
    "import matplotlib.pyplot as plt\n",
    "import tensorflow as tf"
   ]
  },
  {
   "cell_type": "markdown",
   "metadata": {},
   "source": [
    "# Data Processing\n",
    "\n",
    "1. Split dataset into sentences\n",
    "2. Remove punctuation\n",
    "3. All letters lowercase\n",
    "4. Split sentences into words\n",
    "5. Create a vocabulary (all known words of the ML model)\n",
    "6. Tokenize words\n",
    "7. Add and tags in vocabulary ?"
   ]
  },
  {
   "cell_type": "code",
   "execution_count": 2,
   "metadata": {},
   "outputs": [
    {
     "data": {
      "text/plain": [
       "(78, 78)"
      ]
     },
     "execution_count": 2,
     "metadata": {},
     "output_type": "execute_result"
    }
   ],
   "source": [
    "questions = []\n",
    "answers = []\n",
    "\n",
    "with open('data/input/input.txt') as f:\n",
    "    lines = f.readlines()\n",
    "    for line in lines:\n",
    "        if line[0] == 'I':\n",
    "            questions.append(line.strip())\n",
    "        else:\n",
    "            answers.append(line.strip())\n",
    "\n",
    "answers = list(filter(None, answers))\n",
    "len(questions), len(answers)"
   ]
  },
  {
   "cell_type": "code",
   "execution_count": 3,
   "metadata": {},
   "outputs": [],
   "source": [
    "# remove 'Intrebarea' si 'Raspunsul'\n",
    "import re \n",
    "\n",
    "def remove_preposition(text):\n",
    "    q_regex = 'Intrebarea\\ [0-9]+\\:\\ '\n",
    "    a_regex = 'Raspuns\\ [0-9]+\\:\\ '\n",
    "    \n",
    "    if 'Intrebarea' in text:\n",
    "        text = re.sub(q_regex, '', text)\n",
    "    else:\n",
    "        text = re.sub(a_regex, '', text)\n",
    "    return text"
   ]
  },
  {
   "cell_type": "code",
   "execution_count": 5,
   "metadata": {},
   "outputs": [],
   "source": [
    "# remove punctuation\n",
    "import string\n",
    "\n",
    "def remove_punctuation(text):\n",
    "    punctuationfree=\"\".join([i for i in text if i not in string.punctuation])\n",
    "    return punctuationfree"
   ]
  },
  {
   "cell_type": "code",
   "execution_count": 7,
   "metadata": {},
   "outputs": [],
   "source": [
    "# all lowercase\n",
    "def to_lower(text):\n",
    "    return text.lower()"
   ]
  },
  {
   "cell_type": "code",
   "execution_count": 8,
   "metadata": {},
   "outputs": [],
   "source": [
    "# split into words\n",
    "def split_words(text):\n",
    "    tokens = re.split(' ',text)\n",
    "    return tokens"
   ]
  },
  {
   "cell_type": "code",
   "execution_count": 10,
   "metadata": {},
   "outputs": [],
   "source": [
    "# stemming\n",
    "\n",
    "import nltk\n",
    "from nltk.stem.snowball import RomanianStemmer\n",
    "\n",
    "def stemming(text):\n",
    "    snow_stemmer = RomanianStemmer()\n",
    "    return [snow_stemmer.stem(word) for word in text]\n"
   ]
  },
  {
   "cell_type": "code",
   "execution_count": 11,
   "metadata": {},
   "outputs": [],
   "source": [
    "# putting together the pipeline\n",
    "\n",
    "def preprocessing_pipeline(_list):\n",
    "    new_list = []\n",
    "    for text in _list:\n",
    "        text = remove_preposition(text)\n",
    "        text = remove_punctuation(text)\n",
    "        text = split_words(text)\n",
    "        text = list(filter(None, text))\n",
    "        text = [to_lower(x) for x in text]\n",
    "        text = stemming(text)\n",
    "        new_list.append(text)\n",
    "    return new_list"
   ]
  },
  {
   "cell_type": "code",
   "execution_count": 17,
   "metadata": {},
   "outputs": [
    {
     "name": "stdout",
     "output_type": "stream",
     "text": [
      "[[166, 42, 259, 3, 2]]\n",
      "{'de': 1, 'internship': 2, 'la': 3, 'raspuns': 4, 'intrebarea': 5, 'in': 6, 'sa': 7, 'si': 8, 'care': 9, 'un': 10, 'pentru': 11, 'se': 12, 'pe': 13, 'a': 14, 'o': 15, 'fi': 16, 'ce': 17, 'ar': 18, 'daca': 19, 'nu': 20, 'vei': 21, 'assist': 22, 'mai': 23, 'este': 24, 'din': 25, 'cu': 26, 'sunt': 27, 'sau': 28, 'ul': 29, 'ului': 30, 'vor': 31, 'pot': 32, 'cum': 33, 'va': 34, 'trebui': 35, 'aplica': 36, 'ca': 37, 'putea': 38, 'software': 39, 'în': 40, 'urile': 41, 'poate': 42, 'acest': 43, 'sediul': 44, 'am': 45, 'programare': 46, 'proiecte': 47, 'da': 48, 'echipa': 49, 'despre': 50, 'te': 51, 'avea': 52, 'online': 53, 'loc': 54, 'practica': 55, 'are': 56, 'lucra': 57, 'doua': 58, 'exista': 59, 'poti': 60, 'ai': 61, 'cat': 62, 'facultate': 63, 'desfasoara': 64, 'testare': 65, 'il': 66, 'cadrul': 67, 'au': 68, 'studiu': 69, 'unui': 70, 'limbaj': 71, 'individual': 72, 'dar': 73, 'le': 74, 'experienta': 75, 'vom': 76, 'cel': 77, 'urma': 78, 'posibilitatea': 79, 'parcursul': 80, 'grup': 81, 'job': 82, 'prin': 83, 'uri': 84, 'selectie': 85, 'tehnic': 86, 'să': 87, 'studenti': 88, 'persoane': 89, 'mi': 90, 'durata': 91, 'face': 92, 'ideal': 93, 'student': 94, 'tehnologia': 95, 'proiect': 96, 'concluzie': 97, 'iti': 98, 'cunostinte': 99, 'https': 100, 'net': 101, 'iulie': 102, 'august': 103, 'perioada': 104, 'multe': 105, 'cele': 106, 'testul': 107, 'limbajul': 108, 'voi': 109, 'swift': 110, 'companie': 111, 'aceasta': 112, 'doresc': 113, 'fie': 114, 'skill': 115, 'deja': 116, 'personale': 117, 'lucru': 118, 'noastre': 119, 'adresa': 120, 'inscriere': 121, 'individuale': 122, '2': 123, '4': 124, 'ma': 125, 'incepe': 126, 'și': 127, 'tehnologii': 128, 'candidatul': 129, 'importante': 130, 'unor': 131, 'vedere': 132, 'profesional': 133, 'lista': 134, 'afla': 135, 'viitor': 136, 'fost': 137, 'an': 138, 'oportunitati': 139, 'mentorii': 140, 'accesibile': 141, 'domeniu': 142, 'pasionat': 143, 'orice': 144, 'noi': 145, 'varianta': 146, 'ajunge': 147, 'evaluarii': 148, 'obtine': 149, 'luna': 150, 'iar': 151, 'invatare': 152, 'creat': 153, 'special': 154, 'dezvolta': 155, 'usv': 156, 'acesta': 157, 'folosi': 158, 'solutii': 159, 'zero': 160, 'tehnice': 161, 'studia': 162, 'date': 163, 'resursele': 164, '3': 165, 'cine': 166, '6': 167, 'faptul': 168, 'etapele': 169, 'există': 170, 'intership': 171, 'companiei': 172, 'posibil': 173, '12': 174, 'cariera': 175, 'desfasura': 176, '18': 177, 'suceava': 178, '19': 179, 'putem': 180, 'android': 181, 'nevoie': 182, 'calitati': 183, '28': 184, 'as': 185, 'bazele': 186, 'c': 187, 'suficient': 188, 'candidat': 189, 'alt': 190, 'testat': 191, 'folosit': 192, 'activitatea': 193, 'aleg': 194, 'succes': 195, 'firmei': 196, 'neaparat': 197, 'aplic': 198, 'primi': 199, 'oferite': 200, 'nimic': 201, 'colegi': 202, 'acte': 203, 'ori': 204, 'partea': 205, 'elevi': 206, 'sustinut': 207, 'examenul': 208, 'bacalaureat': 209, 'reorienteze': 210, 'punct': 211, 'participarea': 212, 'functie': 213, 'selectat': 214, 'ale': 215, 'nou': 216, 'ti': 217, 'multa': 218, 'asemenea': 219, 'cunostintele': 220, 'detina': 221, 'putin': 222, 'alte': 223, 'programarii': 224, 'doresti': 225, 'ta': 226, 'parte': 227, 'tine': 228, 'tehnologie': 229, 'email': 230, 'propune': 231, 'platit': 232, 'dobandite': 233, 'disponibil': 234, '1': 235, 'fac': 236, '5': 237, 'eu': 238, 'aflu': 239, 'influenta': 240, '7': 241, 'devreme': 242, '8': 243, '9': 244, 'offline': 245, '10': 246, 'programul': 247, '11': 248, 'vazut': 249, 'pana': 250, '13': 251, 'remote': 252, '14': 253, '15': 254, 'internshipului': 255, '16': 256, '17': 257, '20': 258, 'participa': 259, '21': 260, '22': 261, '23': 262, '24': 263, 'doar': 264, '25': 265, 'carieră': 266, 'oferi': 267, 'fiind': 268, '26': 269, '27': 270, '29': 271, 'atat': 272, 'concepte': 273, 'utilizate': 274, 'mare': 275, 'faca': 276, 'fata': 277, 's': 278, 'studiate': 279, 'timpul': 280, '30': 281, '31': 282, '32': 283, '33': 284, 'domeniile': 285, 'interes': 286, '34': 287, 'cunoștințele': 288, '35': 289, 'rezolva': 290, 'chiar': 291, '36': 292, '37': 293, '38': 294, 'cand': 295, '39': 296, 'alegem': 297, '40': 298, '41': 299, 'bine': 300, '42': 301, '43': 302, 'imi': 303, 'invat': 304, 'oare': 305, 'departament': 306, '44': 307, 'blockchain': 308, 'ati': 309, 'existenta': 310, '45': 311, '46': 312, 'pandemia': 313, 'covid': 314, '47': 315, 'colegilor': 316, 'lucreaza': 317, 'manuala': 318, 'automata': 319, '48': 320, 'locuri': 321, '3d': 322, '2d': 323, '49': 324, '50': 325, '51': 326, 'dezvoltare': 327, '52': 328, '53': 329, 'ajuta': 330, 'admiterea': 331, '54': 332, '55': 333, 'unei': 334, '56': 335, '57': 336, '58': 337, '59': 338, 'fiu': 339, '60': 340, '61': 341, '62': 342, 'finalul': 343, 'programului': 344, '63': 345, '64': 346, 'platite': 347, '65': 348, 'academy': 349, '66': 350, '67': 351, 'limba': 352, 'engleză': 353, 'must': 354, 'have': 355, 'industrie': 356, '68': 357, '69': 358, 'programele': 359, '70': 360, '71': 361, '72': 362, '73': 363, '74': 364, '75': 365, 'ne': 366, '76': 367, '77': 368, '78': 369, 'tot': 370, 'anului': 371, 'materialelor': 372, 'mod': 373, 'toate': 374, 'time': 375, '00': 376, 'dupa': 377, 'unul': 378, 'ajunga': 379, 'privinta': 380, 'saptamani': 381, 'zile': 382, 'prima': 383, 'sesiune': 384, 'participantii': 385, 'qa': 386, 'una': 387, 'tehnologiile': 388, 'proiectul': 389, 'pasioneaza': 390, 'dezvolti': 391, 'ajute': 392, 'tale': 393, 'atributii': 394, 'perseverenta': 395, 'fii': 396, 'spre': 397, 'mentori': 398, 'fiecare': 399, 'servi': 400, 'metoda': 401, 'initiala': 402, 'probabil': 403, 'acea': 404, 'informat': 405, 'implica': 406, 'dezvoltarea': 407, 'include': 408, 'urmare': 409, 'urmatorul': 410, 'mobile': 411, 'ci': 412, 'end': 413, 'comunitate': 414, 'evolutia': 415, 'aplicatie': 416, 'impreuna': 417, 'alti': 418, 'invata': 419, 'lucrezi': 420, 'eficient': 421, 'intr': 422, 'gasesti': 423, 'problemele': 424, 'colaborezi': 425, 'pune': 426, 'notiunile': 427, 'teoretice': 428, 'dinainte': 429, 'informatica': 430, 'absolventi': 431, 'challenge': 432, 'stii': 433, 'structuri': 434, 'algoritmi': 435, 'baze': 436, 'apoi': 437, 'aprofundezi': 438, 'learning': 439, 'resources': 440, 'completezi': 441, 'formularul': 442, 'necesare': 443, 'evaluare': 444, 'gratis': 445, 'indatoririle': 446, 'responsabilitatile': 447, 'mele': 448, 'acceptata': 449, 'moment': 450, 'republica': 451, 'moldova': 452, 'interviurile': 453, 'hr': 454, 'opțiune': 455, 'aprilie': 456, 'anume': 457, 'zilnic': 458, 'al': 459, 'e': 460, 'incep': 461, 'schimbe': 462, 'cazul': 463, 'meu': 464, 'vreau': 465, 'schimb': 466, 'astept': 467, 'echivala': 468, 'stagiu': 469, 'număr': 470, 'limitat': 471, 'participări': 472, 'persoană': 473, 'stiu': 474, 'zilele': 475, 'incepere': 476, 'internii': 477, 'scrie': 478, 'cod': 479, 'intră': 480, 'producție': 481, 'intrebatrea': 482, 'afara': 483, 'perioadei': 484, 'anuntate': 485, 'relocare': 486, 'totul': 487, 'echipă': 488, 'sfaturi': 489, 'viață': 490, 'ați': 491, 'lipsit': 492, 'experiență': 493, 'început': 494, 'standarde': 495, 'respecte': 496, 'excela': 497, 'rol': 498, 'rezultate': 499, 'așteptați': 500, 'curios': 501, 'opinia': 502, 'mentorilor': 503, 'cunostinta': 504, 'destul': 505, 'solida': 506, 'limbajelor': 507, 'diverse': 508, 'aplicatii': 509, 'reprezinta': 510, 'plus': 511, 'incat': 512, 'studentul': 513, 'aici': 514, 'includ': 515, 'respectivul': 516, 'descurca': 517, 'interviu': 518, 'baza': 519, 'precum': 520, 'oop': 521, 'cursurile': 522, 'documentatiile': 523, 'liber': 524, 'top': 525, 'dea': 526, 'dovada': 527, 'atașa': 528, 'portofoliu': 529, 'ceea': 530, 'făcut': 531, 'principalele': 532, 'cautati': 533, 'performez': 534, 'eventual': 535, 'introduce': 536, 'portofoliul': 537, 'îmi': 538, 'puteți': 539, 'sfat': 540, 'pregătesc': 541, 'beneficia': 542, '100': 543, 'oferă': 544, 'respectiv': 545, 'testata': 546, 'dau': 547, 'influență': 548, 'asupra': 549, 'fel': 550, 'principal': 551, 'cunosc': 552, 'python': 553, 'intern': 554, 'dat': 555, 'dori': 556, 'propun': 557, 'lucruri': 558, 'legate': 559, 'firma': 560, 'aveti': 561, 'folosesc': 562, 'dezvoltat': 563, 'propriu': 564, 'solutie': 565, 'gen': 566, 'platforma': 567, 'ethereum': 568, 'proiectele': 569, 'lucrează': 570, 'indiviual': 571, 'v': 572, 'afectat': 573, 'situatia': 574, 'actuala': 575, 'legata': 576, 'arata': 577, 'zi': 578, 'grafică': 579, 'ofere': 580, 'altă': 581, 'oportunitatile': 582, 'profilul': 583, 'angajatului': 584, 'dobândesc': 585, 'oportunități': 586, 'perspectiva': 587, 'încheierii': 588, 'acestor': 589, 'forme': 590, 'pregătire': 591, 'inițierii': 592, 'colaborări': 593, 'profesionale': 594, 'ulterioare': 595, 'după': 596, 'terminarea': 597, 'rămâne': 598, 'angajat': 599, 'acolo': 600, 'selectionat': 601, 'trebuie': 602, 'facultatile': 603, 'mentionate': 604, 'terminat': 605, 'mic': 606, 'totusi': 607, 'ales': 608, 'plec': 609, 'scrisoare': 610, 'recomandare': 611, 'dacă': 612, 'știu': 613, 'câți': 614, 'inscrie': 615, 'trimiteti': 616, 'mail': 617, 'actele': 618, 'avem': 619, 'unde': 620, 'lucrez': 621, 'evaluarea': 622, 'prezinta': 623, 'nici': 624, 'cost': 625, 'participantilor': 626, 'specializare': 627, 'responsabilitati': 628, 'celor': 629, 'selectati': 630, 'parcurgerea': 631, 'mentinerea': 632, 'linii': 633, 'comunicare': 634, 'activ': 635, 'colaborativ': 636, 'insa': 637, 'full': 638, 'intervalul': 639, '09': 640, 'pauza': 641, 'masa': 642, 'ora': 643, 'program': 644, 'part': 645, 'disponibilitatea': 646, 'studentului': 647, 'sfatuim': 648, 'aplici': 649, '01': 650, 'ianuarie': 651, '–': 652, 'februarie': 653, 'evaluat': 654, 'timp': 655, 'studierea': 656, 'inceapa': 657, 'internshipul': 658, 'conventie': 659, 'universitate': 660, 'participarii': 661, 'echivaleaza': 662, 'stabilit': 663, 'inca': 664, 'datele': 665, 'exacte': 666, 'sesiunilor': 667, 'normal': 668, 'cei': 669, 'dintre': 670, 'pregatit': 671, 'lunilor': 672, 'structurate': 673, 'sesiuni': 674, 'prim': 675, 'pas': 676, 'identifici': 677, 'intelegi': 678, 'intersecteaza': 679, 'caz': 680, 'continua': 681, 'studiind': 682, 'punand': 683, 'acel': 684, 'descoperit': 685, 'ceva': 686, 'fa': 687, 'plan': 688, 'includa': 689, 'adauga': 690, 'cv': 691, 'tau': 692, 'acestea': 693, 'spori': 694, 'sansele': 695, 'domeniul': 696, 'dorit': 697, 'mentor': 698, 'devii': 699, 'increzator': 700, 'participant': 701, 'lucrul': 702, 'evolutie': 703, 'vizibila': 704, 'persoana': 705, 'cauza': 706, 'trece': 707, 'detine': 708, 'cateva': 709, 'limbaje': 710, 'relevante': 711, 'lucrat': 712, 'relevanta': 713, 'proprii': 714, 'incerci': 715, 'curent': 716, 'trend': 717, 'lumea': 718, 'capabil': 719, 'reprofilezi': 720, 'tranzitie': 721, 'usoara': 722, 'important': 723, 'deschis': 724, 'potentiala': 725, 'reprofilare': 726, 'folosesti': 727, 'materialele': 728, 'puse': 729, 'dispozitia': 730, 'catre': 731, 'testele': 732, 'create': 733, 'deci': 734, 'aleasa': 735, 'alegi': 736, 'comunica': 737, 'disponibile': 738, 'tip': 739, 'cunostintelor': 740, 'urilor': 741, 'cunosti': 742, 'variante': 743, 'vara': 744, 'anul': 745, '2021': 746, 'format': 747, 'dou': 748, 'ramuri': 749, 'ios': 750, 'ramura': 751, 'foloseste': 752, 'regula': 753, 'permite': 754, 'construim': 755, 'folosim': 756, 'existente': 757, 'diferit': 758, 'vorba': 759, 'impartiti': 760, 'grupe': 761, 'back': 762, 'front': 763, 'consideram': 764, 'afectati': 765, 'informatii': 766, 'parcurgand': 767, 'articol': 768, 'blog': 769, 'hero': 770, 'steps': 771, 'will': 772, 'guide': 773, 'you': 774, 'career': 775, 'testing': 776, 'grafica': 777, 'informa': 778, 'intreaga': 779, 'intampla': 780, 'obtii': 781, 'usurinta': 782, 'detii': 783, 'oportunitatea': 784, 'ajutor': 785, 'sustinere': 786, 'suntem': 787, 'ofera': 788, 'multiple': 789, 'studentilor': 790, 'cultura': 791, 'inclusiva': 792, 'randul': 793, 'lor': 794, 'set': 795, 'beneficii': 796, 'personala': 797, 'profesionala': 798, 'dispozitie': 799, 'numeroase': 800, 'materiale': 801, 'cursuri': 802, 'workshop': 803, 'conferinte': 804, 'conventii': 805, 'posibilitate': 806, 'mica': 807, 'principala': 808, 'oportunitate': 809, 'obtinerii': 810, 'pasii': 811, 'urmatori': 812, 'acestia': 813, 'rezultatele': 814, 'bune': 815, 'buna': 816, 'atunci': 817, 'etapelor': 818, 'legatura': 819, 'specializari': 820, 'decat': 821, 'calculatoare': 822, 'automatica': 823, 'economica': 824, 'per': 825, 'total': 826, 'abilitatile': 827, 'soft': 828, 'skills': 829, 'adeverinta': 830, 'participi': 831, 'concursurile': 832, 'organizate': 833, 'tech': 834, 'coding': 835, 'best': 836, 'innovative': 837, 'minds': 838, 'urmarind': 839, 'paginile': 840, 'social': 841, 'media': 842, 'internshipuri': 843, 'colabora': 844, 'membri': 845, 'echipei': 846, 'maxim': 847, 'completarea': 848, 'formular': 849}\n"
     ]
    }
   ],
   "source": [
    "# creating the Tokenizer and the vocabulary\n",
    "\n",
    "tokenizer = tf.keras.preprocessing.text.Tokenizer()\n",
    "text_corpus = questions + answers\n",
    "tokenizer.fit_on_texts(text_corpus)\n",
    "new_texts = ['cine poate participa la internship?']\n",
    "print(tokenizer.texts_to_sequences(new_texts))\n",
    "print(tokenizer.word_index) # the vocabulary"
   ]
  },
  {
   "cell_type": "markdown",
   "metadata": {},
   "source": [
    "Am importat spacy pentr cazul in care trebuie sa facem tagging, pentru un algoritm mai avansat."
   ]
  },
  {
   "cell_type": "code",
   "execution_count": null,
   "metadata": {},
   "outputs": [
    {
     "name": "stdout",
     "output_type": "stream",
     "text": [
      "Apple plănuiește să cumpere o companie britanică pentru un miliard de dolari\n",
      "Apple NOUN nsubj\n",
      "plănuiește AUX ROOT\n",
      "să PART mark\n",
      "cumpere AUX ccomp\n",
      "o DET det\n",
      "companie NOUN obj\n",
      "britanică ADJ amod\n",
      "pentru ADP case\n",
      "un DET det\n",
      "miliard NUM obl\n",
      "de ADP case\n",
      "dolari NOUN nmod\n"
     ]
    }
   ],
   "source": [
    "import spacy\n",
    "from spacy.lang.ro.examples import sentences \n",
    "\n",
    "nlp = spacy.load(\"ro_core_news_sm\")\n",
    "doc = nlp(sentences[0])\n",
    "print(doc.text)\n",
    "for token in doc:\n",
    "    print(token.text, token.pos_, token.dep_)"
   ]
  },
  {
   "cell_type": "markdown",
   "metadata": {},
   "source": [
    "This is for later on.\n",
    "\n",
    "# Creating the model architecture"
   ]
  }
 ],
 "metadata": {
  "interpreter": {
   "hash": "3b750cac4311e9fd618add7f135fe3e519a4aa0ff674a9c2788ad127b0f6cf49"
  },
  "kernelspec": {
   "display_name": "Python 3.8.12 ('hr')",
   "language": "python",
   "name": "python3"
  },
  "language_info": {
   "codemirror_mode": {
    "name": "ipython",
    "version": 3
   },
   "file_extension": ".py",
   "mimetype": "text/x-python",
   "name": "python",
   "nbconvert_exporter": "python",
   "pygments_lexer": "ipython3",
   "version": "3.8.12"
  },
  "orig_nbformat": 4
 },
 "nbformat": 4,
 "nbformat_minor": 2
}
